{
  "nbformat": 4,
  "nbformat_minor": 0,
  "metadata": {
    "colab": {
      "name": "TH-Covid-19.ipynb",
      "provenance": [],
      "collapsed_sections": [],
      "authorship_tag": "ABX9TyNoTCcDojmZuxvXJ/oWtc1g",
      "include_colab_link": true
    },
    "kernelspec": {
      "name": "python3",
      "display_name": "Python 3"
    }
  },
  "cells": [
    {
      "cell_type": "markdown",
      "metadata": {
        "id": "view-in-github",
        "colab_type": "text"
      },
      "source": [
        "<a href=\"https://colab.research.google.com/github/supertua/mypython101/blob/master/TH_Covid_19.ipynb\" target=\"_parent\"><img src=\"https://colab.research.google.com/assets/colab-badge.svg\" alt=\"Open In Colab\"/></a>"
      ]
    },
    {
      "cell_type": "code",
      "metadata": {
        "id": "D_XlBwQIwpD3",
        "colab_type": "code",
        "outputId": "25bbe013-ac1b-4542-a8a1-0ce02282768f",
        "colab": {
          "base_uri": "https://localhost:8080/",
          "height": 380
        }
      },
      "source": [
        "import requests\n",
        "from pprint import pprint\n",
        "from datetime import date\n",
        "from datetime import datetime\n",
        "\n",
        "import matplotlib.pyplot as plt\n",
        "import matplotlib.pyplot as cfm\n",
        "\n",
        "\n",
        "\n",
        "# รายละเอียด: ข้อมูลสรุป Covid-19 ตามช่วงเวลา (เริ่มตั้งแต่วันที่ 01/01/20)\n",
        "  \n",
        "url = 'https://covid19.th-stat.com/api/open/timeline'\n",
        "\n",
        "print ('API: Department of Disease Control')\n",
        "\n",
        "r = requests.get(url)\n",
        "result = r.json()\n",
        "\n",
        "covid = result['Data']\n",
        "# print (covid)\n",
        "# print (type(covid))\n",
        "\n",
        "coviddate = len(covid)\n",
        "today = datetime.now ()\n",
        "print ('First Date of Outbreak: 01-Jan-2020')\n",
        "print ('Data as of:            ',today.strftime(\"%d-%b-%Y %H:%M:%S\"),'GMT')\n",
        "print ('Days from Outbreak:      {:,d}'.format(coviddate))\n",
        "\n",
        "\n",
        "record = 1\n",
        "\n",
        "for cv in covid:\n",
        "  # print ('Day: ',record)\n",
        "  thisday = covid[record-1]\n",
        "  # print (thisday['Date'], thisday['Recovered'])\n",
        "  plt.bar (record, thisday['Recovered'])\n",
        "  # cfm.plot (record, thisday['Confirmed'])\n",
        "  \n",
        "  # plt.plot (thisday['Recovered'])\n",
        "  record += 1\n",
        "  recovered = thisday['Recovered']\n",
        "  confirmed = thisday['Confirmed']\n",
        "  # allbudget.append (int(pj['total_bb'].replace(',','')))\n",
        "\n",
        "# plot graph\n",
        "\n",
        "plt.xlabel (\"Days since Outbreak\")\n",
        "plt.ylabel (\"Patience\")\n",
        "plt.title(\"Thailand COVID-19 Recovered Patience\")\n",
        "plt.show ()\n",
        "print ('Total Recovered: {:,d}'.format(recovered))\n",
        "\n",
        "# cfm.title (\"Thialand COVID-19 Confirmed Patience\")\n",
        "# cfm.show ()\n",
        "# print ('Total Confirmed: {:,d}'.format(confirmed))\n",
        "\n",
        "  \n",
        "\n"
      ],
      "execution_count": 80,
      "outputs": [
        {
          "output_type": "stream",
          "text": [
            "API: Department of Disease Control\n",
            "First Date of Outbreak: 01-Jan-2020\n",
            "Data as of:             01-Apr-2020 07:34:40 GMT\n",
            "Days from Outbreak:      92\n"
          ],
          "name": "stdout"
        },
        {
          "output_type": "display_data",
          "data": {
            "image/png": "[encoded data removed]",
            "text/plain": [
              "<Figure size 432x288 with 1 Axes>"
            ]
          },
          "metadata": {
            "tags": []
          }
        },
        {
          "output_type": "stream",
          "text": [
            "Total Recovered: 342\n"
          ],
          "name": "stdout"
        }
      ]
    }
  ]
}